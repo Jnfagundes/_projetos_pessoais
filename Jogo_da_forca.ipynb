{
  "nbformat": 4,
  "nbformat_minor": 0,
  "metadata": {
    "colab": {
      "name": "Jogo_da_forca.ipynb",
      "provenance": [],
      "authorship_tag": "ABX9TyMRXEtqmwV0zYegtoadqL1B",
      "include_colab_link": true
    },
    "kernelspec": {
      "name": "python3",
      "display_name": "Python 3"
    },
    "language_info": {
      "name": "python"
    }
  },
  "cells": [
    {
      "cell_type": "markdown",
      "metadata": {
        "id": "view-in-github",
        "colab_type": "text"
      },
      "source": [
        "<a href=\"https://colab.research.google.com/github/Jnfagundes/_projetos_pessoais/blob/comeco/Jogo_da_forca.ipynb\" target=\"_parent\"><img src=\"https://colab.research.google.com/assets/colab-badge.svg\" alt=\"Open In Colab\"/></a>"
      ]
    },
    {
      "cell_type": "code",
      "metadata": {
        "id": "pzD5Dx15GCXU"
      },
      "source": [
        "from random import randint\n",
        "\n",
        "corpo = [\n",
        "         '''\n",
        "         +------+\n",
        "         |      |\n",
        "                |\n",
        "                |\n",
        "                |\n",
        "                |\n",
        "                |\n",
        "                |\n",
        "       ++++++++++++          \n",
        "         ''',\n",
        "        '''\n",
        "         +------+\n",
        "         |      |\n",
        "         O      |\n",
        "                |\n",
        "                |\n",
        "                |\n",
        "                |\n",
        "                |\n",
        "       ++++++++++++          \n",
        "         ''',\n",
        "          '''\n",
        "         +------+\n",
        "         |      |\n",
        "         O      |\n",
        "         |      |\n",
        "         |      |\n",
        "         |      |\n",
        "                |\n",
        "                |\n",
        "       ++++++++++++ \n",
        "                 \n",
        "         ''', \n",
        "          '''\n",
        "         +------+\n",
        "         |      |\n",
        "         O      |\n",
        "         |      |\n",
        "       / |      |\n",
        "     /   |      |\n",
        "                |\n",
        "                |\n",
        "       ++++++++++++ \n",
        "                 \n",
        "         ''',\n",
        "          '''\n",
        "         +------+\n",
        "         |      |\n",
        "         O      |\n",
        "         |      |\n",
        "       / |  \\   |\n",
        "     /   |    \\ |\n",
        "                |\n",
        "                |\n",
        "       ++++++++++++ \n",
        "                 \n",
        "         ''',\n",
        "          '''\n",
        "         +------+\n",
        "         |      |\n",
        "         O      |\n",
        "         |      |\n",
        "       / |  \\   |\n",
        "     /   |    \\ |\n",
        "        /       |\n",
        "      /         |\n",
        "       ++++++++++++ \n",
        "                 \n",
        "         ''',\n",
        "\n",
        "          '''\n",
        "         +------+\n",
        "         |      |\n",
        "         O      |\n",
        "         |      |\n",
        "       / |  \\   |\n",
        "     /   |    \\ |\n",
        "        /  \\    |\n",
        "      /      \\  |\n",
        "       ++++++++++++ \n",
        "                 \n",
        "         ''',\n",
        "]\n",
        "\n"
      ],
      "execution_count": null,
      "outputs": []
    },
    {
      "cell_type": "code",
      "metadata": {
        "id": "MtgBKFnRLjHg"
      },
      "source": [
        "palavras = ['sapato',  'cachorro',  'carimbo', 'caminhar', 'cansado', 'andando', 'felicidade', 'macaco', 'mamifero', 'aclamado']\n"
      ],
      "execution_count": 4,
      "outputs": []
    },
    {
      "cell_type": "code",
      "metadata": {
        "id": "zPQVV7mAM-X6"
      },
      "source": [
        "def get_palavra(p_lista):\n",
        "  p_index = randint(0, len(p_lista) -1)\n",
        "  return p_lista[p_index]\n",
        "\n",
        "\n",
        "def display(corpo, letra_errada, letra_correta, palavra_secreta):\n",
        "  print(corpo[len(letra_errada)])\n",
        "  print()\n",
        "\n",
        "  print('Letras erradas: ', end=\" \")\n",
        "\n",
        "  for letra in letra_errada:\n",
        "    print(letra, end=' ')\n",
        "\n",
        "  print()\n",
        "\n",
        "\n",
        "  lacuna = '_' + len(palavra_secreta)\n",
        "\n",
        "#Substituindo os espaços em branco pelas letras corretas\n",
        "  for cont in range(len(palavra_secreta)):\n",
        "    if palavra_secreta[cont] in letra_correta:\n",
        "      lacuna = lacuna[:cont] + palavra_secreta[cont] + lacuna[cont+1]\n",
        "\n",
        "#Mostrar a palavra secreta com espaço entre as letras\n",
        "  for letra in lacuna:\n",
        "    print(letra, end=' ')\n",
        "\n",
        "  print()\n"
      ],
      "execution_count": 21,
      "outputs": []
    },
    {
      "cell_type": "code",
      "metadata": {
        "id": "QFuOAnXbRyoG"
      },
      "source": [
        "def chute(letra_chutada):\n",
        "  while True:\n",
        "    chute = str(input('Digite uma letra: ')).lower().strip()\n",
        "    \n",
        "    if len(chute) != 1:\n",
        "      print('Por favor digite penas uma letra!')\n",
        "\n",
        "    elif chute in letra_chutada:\n",
        "      print('Essa você já chutou. Tente novamente!')\n",
        "\n",
        "    elif chute not in 'abcdefghijklmnopqrstuvxyz':\n",
        "     print('Digite uma letra do nosso alfabeto: ')   \n",
        "\n",
        "    else:\n",
        "     return chute\n",
        "     break \n",
        "\n",
        "\n"
      ],
      "execution_count": 22,
      "outputs": []
    },
    {
      "cell_type": "code",
      "metadata": {
        "id": "HFIKXP8UUSIT"
      },
      "source": [
        "def jogar_novamente():\n",
        "  return input('Jogar mais uma? S para sim ou N para não: ').lower().startswith('s')\n",
        "  "
      ],
      "execution_count": 23,
      "outputs": []
    },
    {
      "cell_type": "code",
      "metadata": {
        "id": "FjIsy6QxXJqy"
      },
      "source": [
        "print('----- c a r r a s c o -----')\n",
        "letra_errada = ''\n",
        "letra_correta = ''\n",
        "palavra_secreta = get_palavra(palavras)\n",
        "fim_de_jogo = False\n",
        "\n",
        "while True:\n",
        "  display(corpo, letra_errada, letra_correta, palavra_secreta)\n",
        "\n",
        "  chute = get_chute(letra_errada + letra_correta) \n",
        "\n",
        "  if chute in palavra_secreta:\n",
        "    letra_correta = letra_correta + chute\n",
        "    p_completa = True\n",
        "\n",
        "    for i in range(palavra_secreta):\n",
        "      if palavra_secreta[i] not in letra_correta:\n",
        "        p_completa = False\n",
        "        break\n",
        "\n",
        "    if p_completa:\n",
        "      print(f'A palavra secreta é: {palavra_secreta}')\n",
        "      fim_de_jogo = True\n",
        "\n",
        "  else:\n",
        "    letra_errada = letra_errada + chute \n",
        "\n",
        "    if len(letra_errada) == len(corpo) - 1:\n",
        "      display(corpo, letra_errada, letra_correta, palavra_secreta)\n",
        "      print(f'Que pena suas chances acabaram. Total de chutes errados {len(letra_errada)}, totl de chutes certos {len(letra_correta)}, a palavra era {palavra_secreta}')\n",
        "      fim_de_jogo = True\n",
        "\n",
        "#Verificar se o jogador que jogar novamente\n",
        "if fim_de_jogo:\n",
        "  if jogar_novamente():\n",
        "    letra_errada = ''\n",
        "    letra_correta = ''\n",
        "    fim_de_jogo = True\n",
        "    palavra_secreta = get_palavra(palavra)\n",
        "\n",
        "  else:\n",
        "    break  \n"
      ],
      "execution_count": null,
      "outputs": []
    }
  ]
}